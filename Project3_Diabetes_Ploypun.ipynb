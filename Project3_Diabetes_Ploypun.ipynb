{
 "cells": [
  {
   "cell_type": "code",
   "execution_count": 1,
   "metadata": {
    "collapsed": false
   },
   "outputs": [],
   "source": [
    "import numpy as np\n",
    "import matplotlib.pyplot as plt \n",
    "from sklearn import datasets\n",
    "from sklearn.svm import SVC\n",
    "from sklearn import preprocessing\n",
    "from sklearn.metrics import confusion_matrix, accuracy_score, classification_report\n",
    "from sklearn.metrics import roc_curve, auc"
   ]
  },
  {
   "cell_type": "code",
   "execution_count": 2,
   "metadata": {
    "collapsed": false
   },
   "outputs": [
    {
     "name": "stdout",
     "output_type": "stream",
     "text": [
      "[[   6.     148.      72.    ...,    0.627   50.       1.   ]\n",
      " [   1.      85.      66.    ...,    0.351   31.       0.   ]\n",
      " [   8.     183.      64.    ...,    0.672   32.       1.   ]\n",
      " ..., \n",
      " [   5.     121.      72.    ...,    0.245   30.       0.   ]\n",
      " [   1.     126.      60.    ...,    0.349   47.       1.   ]\n",
      " [   1.      93.      70.    ...,    0.315   23.       0.   ]]\n",
      "(768, 9)\n"
     ]
    }
   ],
   "source": [
    "data2 = np.genfromtxt(\"diabetes2.csv\", delimiter=\",\", skip_header=1)\n",
    "print data2\n",
    "print data2.shape"
   ]
  },
  {
   "cell_type": "code",
   "execution_count": 3,
   "metadata": {
    "collapsed": false
   },
   "outputs": [
    {
     "name": "stdout",
     "output_type": "stream",
     "text": [
      "(768, 8)\n",
      "(768,)\n"
     ]
    }
   ],
   "source": [
    "dm_X = data2[:,:8]\n",
    "print dm_X.shape\n",
    "dm_y = data2[:,8]\n",
    "print dm_y.shape"
   ]
  },
  {
   "cell_type": "code",
   "execution_count": 4,
   "metadata": {
    "collapsed": false
   },
   "outputs": [
    {
     "name": "stdout",
     "output_type": "stream",
     "text": [
      "[ 0.  1.]\n"
     ]
    }
   ],
   "source": [
    "print np.unique(dm_y)"
   ]
  },
  {
   "cell_type": "code",
   "execution_count": 5,
   "metadata": {
    "collapsed": false
   },
   "outputs": [
    {
     "name": "stdout",
     "output_type": "stream",
     "text": [
      "614\n",
      "[ 0.  1.  0.  0.  1.  0.  0.  0.  0.  0.  1.  1.  1.  1.  0.  0.  1.  1.\n",
      "  0.  0.  0.  1.  0.  0.  0.  1.  0.  0.  0.  0.  0.  0.  1.  1.  0.  0.\n",
      "  0.  0.  0.  0.  1.  0.  0.  0.  0.  0.  0.  1.  1.  1.  0.  1.  0.  0.\n",
      "  0.  0.  0.  0.  1.  1.  0.  1.  1.  0.  0.  1.  0.  0.  0.  1.  0.  1.\n",
      "  0.  1.  0.  1.  0.  0.  0.  0.  1.  0.  0.  1.  0.  0.  0.  0.  0.  1.\n",
      "  0.  1.  0.  0.  0.  0.  0.  1.  0.  0.  0.  0.  1.  0.  1.  0.  0.  0.\n",
      "  1.  1.  0.  0.  0.  0.  0.  0.  0.  0.  0.  0.  0.  1.  1.  1.  1.  0.\n",
      "  1.  1.  1.  0.  0.  1.  0.  0.  0.  0.  0.  1.  0.  0.  0.  1.  0.  1.\n",
      "  0.  0.  1.  1.  0.  0.  1.  0.  0.  0.]\n",
      "[ 1.  0.  0.  1.  0.  0.  1.  1.  0.  0.  1.  1.  0.  0.  0.  0.  1.  0.\n",
      "  0.  0.  1.  1.  0.  0.  0.  0.  0.  0.  0.  0.  0.  0.  0.  0.  0.  1.\n",
      "  1.  0.  0.  0.  0.  0.  0.  1.  1.  0.  0.  1.  1.  1.  0.  0.  1.  0.\n",
      "  0.  0.  0.  1.  1.  1.  1.  0.  0.  1.  1.  1.  1.  0.  0.  0.  0.  0.\n",
      "  0.  0.  1.  0.  0.  0.  0.  0.  0.  0.  0.  0.  0.  0.  1.  0.  1.  0.\n",
      "  0.  0.  0.  0.  0.  0.  1.  0.  1.  1.  0.  0.  0.  0.  0.  1.  0.  0.\n",
      "  0.  1.  0.  1.  1.  1.  1.  1.  0.  0.  0.  1.  0.  0.  0.  0.  0.  0.\n",
      "  0.  1.  0.  0.  0.  0.  0.  1.  0.  1.  0.  1.  1.  0.  0.  0.  0.  0.\n",
      "  1.  0.  0.  0.  0.  1.  0.  1.  0.  0.  1.  0.  0.  0.  1.  1.  1.  1.\n",
      "  0.  0.  0.  1.  0.  0.  0.  0.  0.  0.  1.  1.  0.  0.  0.  0.  0.  0.\n",
      "  1.  1.  0.  1.  1.  0.  1.  1.  1.  0.  0.  0.  0.  0.  0.  1.  1.  0.\n",
      "  0.  0.  0.  0.  0.  0.  1.  0.  0.  0.  1.  0.  1.  0.  0.  0.  0.  0.\n",
      "  1.  1.  0.  0.  1.  0.  1.  1.  0.  0.  1.  1.  0.  0.  0.  1.  0.  0.\n",
      "  1.  1.  0.  1.  0.  1.  0.  1.  0.  1.  0.  1.  0.  0.  0.  0.  0.  1.\n",
      "  0.  1.  0.  1.  0.  0.  0.  0.  0.  0.  0.  0.  1.  0.  1.  1.  1.  1.\n",
      "  0.  0.  0.  0.  1.  1.  0.  1.  0.  0.  1.  1.  0.  0.  0.  0.  0.  0.\n",
      "  0.  1.  1.  0.  0.  0.  0.  1.  1.  0.  0.  0.  0.  1.  0.  0.  1.  1.\n",
      "  0.  1.  1.  0.  0.  0.  0.  0.  0.  0.  0.  1.  0.  1.  0.  0.  0.  1.\n",
      "  0.  0.  0.  0.  0.  1.  1.  1.  1.  0.  0.  0.  0.  0.  1.  0.  0.  0.\n",
      "  0.  1.  1.  0.  0.  0.  1.  1.  1.  1.  0.  1.  0.  1.  1.  0.  0.  0.\n",
      "  1.  0.  0.  0.  1.  0.  1.  1.  0.  1.  1.  0.  0.  0.  0.  1.  1.  0.\n",
      "  0.  1.  1.  0.  0.  0.  0.  0.  1.  0.  1.  0.  0.  0.  1.  0.  1.  0.\n",
      "  1.  0.  1.  1.  1.  1.  0.  1.  1.  0.  0.  1.  1.  0.  0.  1.  1.  0.\n",
      "  0.  0.  1.  1.  0.  0.  1.  0.  1.  0.  0.  1.  0.  1.  0.  0.  0.  1.\n",
      "  0.  0.  0.  0.  0.  1.  0.  1.  0.  0.  1.  0.  0.  1.  0.  0.  0.  0.\n",
      "  0.  0.  0.  0.  0.  1.  1.  0.  1.  0.  1.  1.  1.  0.  1.  0.  0.  1.\n",
      "  1.  0.  0.  0.  1.  0.  0.  1.  0.  1.  0.  0.  0.  0.  1.  0.  0.  0.\n",
      "  1.  1.  0.  1.  0.  1.  1.  0.  1.  0.  1.  0.  0.  0.  1.  0.  1.  0.\n",
      "  1.  0.  0.  1.  1.  0.  0.  0.  0.  1.  0.  0.  1.  0.  1.  1.  0.  0.\n",
      "  1.  1.  0.  0.  0.  0.  1.  0.  0.  0.  0.  1.  0.  1.  0.  0.  0.  0.\n",
      "  1.  0.  0.  0.  1.  0.  0.  0.  1.  1.  0.  0.  0.  0.  0.  1.  0.  0.\n",
      "  1.  0.  1.  1.  0.  1.  0.  0.  0.  0.  1.  1.  0.  0.  0.  1.  0.  0.\n",
      "  0.  0.  1.  0.  1.  0.  0.  0.  1.  0.  1.  1.  1.  1.  0.  1.  0.  0.\n",
      "  0.  0.  0.  1.  0.  1.  0.  1.  0.  0.  0.  1.  1.  0.  0.  1.  1.  0.\n",
      "  1.  0.]\n"
     ]
    }
   ],
   "source": [
    "np.random.seed(0)\n",
    "indices = np.random.permutation(len(dm_X))\n",
    "num_train = int(.8*len(dm_X))\n",
    "print num_train\n",
    "\n",
    "dm_X_train = dm_X[indices[:num_train]]\n",
    "dm_y_train = dm_y[indices[:num_train]]\n",
    "dm_X_test = dm_X[indices[num_train:]]\n",
    "dm_y_test = dm_y[indices[num_train:]] \n",
    "print dm_y_test\n",
    "print dm_y_train"
   ]
  },
  {
   "cell_type": "code",
   "execution_count": 6,
   "metadata": {
    "collapsed": false
   },
   "outputs": [
    {
     "name": "stdout",
     "output_type": "stream",
     "text": [
      "[[ 0.05882353  1.          0.62295082 ...,  0.72222222  0.56191289\n",
      "   0.01960784]\n",
      " [ 0.11764706  0.53768844  0.60655738 ...,  0.56565657  0.13919727\n",
      "   0.03921569]\n",
      " [ 0.23529412  0.38190955  0.50819672 ...,  0.57239057  0.13364646\n",
      "   0.07843137]\n",
      " ..., \n",
      " [ 0.11764706  0.45226131  0.57377049 ...,  0.45959596  0.0029889\n",
      "   0.01960784]\n",
      " [ 0.52941176  0.7839196   0.70491803 ...,  0.57744108  0.47438087\n",
      "   0.41176471]\n",
      " [ 0.          0.5879397   0.54098361 ...,  0.51851852  0.17719898\n",
      "   0.01960784]]\n",
      "[[ 0.05882353  0.35678392  0.50819672 ...,  0.36700337  0.14432109\n",
      "   0.09803922]\n",
      " [ 0.05882353  0.86934673  0.60655738 ...,  0.61952862  0.00426985\n",
      "   0.33333333]\n",
      " [ 0.29411765  0.52763819  0.59016393 ...,  0.62121212  0.03458582\n",
      "   0.1372549 ]\n",
      " ..., \n",
      " [ 0.23529412  0.47236181  0.53278689 ...,  0.41582492  0.02988898  0.        ]\n",
      " [ 0.64705882  0.42713568  0.60655738 ...,  0.50673401  0.09479078\n",
      "   0.2745098 ]\n",
      " [ 0.29411765  0.68341709  0.67213115 ...,  0.          0.23996584\n",
      "   0.94117647]]\n"
     ]
    }
   ],
   "source": [
    "min_max_scaler = preprocessing.MinMaxScaler()\n",
    "dm_X_train_minmax = min_max_scaler.fit_transform(dm_X_train)\n",
    "dm_X_test_minmax = min_max_scaler.transform(dm_X_test)\n",
    "print dm_X_train_minmax\n",
    "print dm_X_test_minmax"
   ]
  },
  {
   "cell_type": "code",
   "execution_count": 7,
   "metadata": {
    "collapsed": false
   },
   "outputs": [
    {
     "name": "stdout",
     "output_type": "stream",
     "text": [
      "(154,)\n",
      "(154,)\n",
      "accuracy:  0.681818181818\n",
      "confusion matrix: \n",
      "[[105   0]\n",
      " [ 49   0]]\n",
      "classification_report: \n",
      "             precision    recall  f1-score   support\n",
      "\n",
      "        0.0       0.68      1.00      0.81       105\n",
      "        1.0       0.00      0.00      0.00        49\n",
      "\n",
      "avg / total       0.46      0.68      0.55       154\n",
      "\n"
     ]
    },
    {
     "name": "stderr",
     "output_type": "stream",
     "text": [
      "/Users/LittleBird/Library/Enthought/Canopy_64bit/User/lib/python2.7/site-packages/sklearn/metrics/classification.py:1113: UndefinedMetricWarning: Precision and F-score are ill-defined and being set to 0.0 in labels with no predicted samples.\n",
      "  'precision', 'predicted', average, warn_for)\n"
     ]
    }
   ],
   "source": [
    "svc = SVC(C=1.0, kernel='rbf', gamma = 0.01)\n",
    "clf = svc.fit(dm_X_train_minmax, dm_y_train)\n",
    "target = dm_y_test\n",
    "prediction = svc.predict(dm_X_test_minmax)\n",
    "print target.shape\n",
    "print prediction.shape\n",
    "\n",
    "accuracy = accuracy_score(target, prediction) \n",
    "print \"accuracy: \", accuracy\n",
    "\n",
    "cm = confusion_matrix(target, prediction) \n",
    "print \"confusion matrix: \\n\", cm\n",
    "\n",
    "report = classification_report(target, prediction) \n",
    "print \"classification_report: \\n\", report"
   ]
  },
  {
   "cell_type": "code",
   "execution_count": 8,
   "metadata": {
    "collapsed": false
   },
   "outputs": [
    {
     "name": "stdout",
     "output_type": "stream",
     "text": [
      "accuracy:  0.688311688312\n",
      "confusion matrix: \n",
      "[[99  6]\n",
      " [42  7]]\n",
      "classification_report: \n",
      "             precision    recall  f1-score   support\n",
      "\n",
      "        0.0       0.70      0.94      0.80       105\n",
      "        1.0       0.54      0.14      0.23        49\n",
      "\n",
      "avg / total       0.65      0.69      0.62       154\n",
      "\n"
     ]
    }
   ],
   "source": [
    "svc = SVC(C=1.0, kernel='rbf', gamma = 0.01)\n",
    "clf = svc.fit(dm_X_train, dm_y_train)\n",
    "target = dm_y_test\n",
    "prediction = svc.predict(dm_X_test)\n",
    "accuracy = accuracy_score(target, prediction) \n",
    "print \"accuracy: \", accuracy\n",
    "\n",
    "cm = confusion_matrix(target, prediction) \n",
    "print \"confusion matrix: \\n\", cm\n",
    "\n",
    "report = classification_report(target, prediction) \n",
    "print \"classification_report: \\n\", report"
   ]
  },
  {
   "cell_type": "code",
   "execution_count": 9,
   "metadata": {
    "collapsed": false
   },
   "outputs": [
    {
     "name": "stdout",
     "output_type": "stream",
     "text": [
      "(154,)\n",
      "(154,)\n",
      "accuracy:  0.766233766234\n",
      "confusion matrix: \n",
      "[[93 12]\n",
      " [24 25]]\n",
      "classification_report: \n",
      "             precision    recall  f1-score   support\n",
      "\n",
      "        0.0       0.79      0.89      0.84       105\n",
      "        1.0       0.68      0.51      0.58        49\n",
      "\n",
      "avg / total       0.76      0.77      0.76       154\n",
      "\n"
     ]
    }
   ],
   "source": [
    "svc = SVC(C=100.0, kernel='rbf', gamma = 0.01)\n",
    "clf = svc.fit(dm_X_train_minmax, dm_y_train)\n",
    "target = dm_y_test\n",
    "prediction = svc.predict(dm_X_test_minmax)\n",
    "print target.shape\n",
    "print prediction.shape\n",
    "\n",
    "accuracy = accuracy_score(target, prediction) \n",
    "print \"accuracy: \", accuracy\n",
    "\n",
    "cm = confusion_matrix(target, prediction) \n",
    "print \"confusion matrix: \\n\", cm\n",
    "\n",
    "report = classification_report(target, prediction) \n",
    "print \"classification_report: \\n\", report"
   ]
  },
  {
   "cell_type": "code",
   "execution_count": 10,
   "metadata": {
    "collapsed": false
   },
   "outputs": [
    {
     "name": "stdout",
     "output_type": "stream",
     "text": [
      "accuracy:  0.681818181818\n",
      "confusion matrix: \n",
      "[[95 10]\n",
      " [39 10]]\n",
      "classification_report: \n",
      "             precision    recall  f1-score   support\n",
      "\n",
      "        0.0       0.71      0.90      0.79       105\n",
      "        1.0       0.50      0.20      0.29        49\n",
      "\n",
      "avg / total       0.64      0.68      0.63       154\n",
      "\n"
     ]
    }
   ],
   "source": [
    "svc = SVC(C=100.0, kernel='rbf', gamma = 0.01)\n",
    "clf = svc.fit(dm_X_train, dm_y_train)\n",
    "target = dm_y_test\n",
    "prediction = svc.predict(dm_X_test)\n",
    "accuracy = accuracy_score(target, prediction)  \n",
    "print \"accuracy: \", accuracy\n",
    "\n",
    "cm = confusion_matrix(target, prediction) \n",
    "print \"confusion matrix: \\n\", cm\n",
    "\n",
    "report = classification_report(target, prediction) \n",
    "print \"classification_report: \\n\", report"
   ]
  },
  {
   "cell_type": "code",
   "execution_count": 11,
   "metadata": {
    "collapsed": false
   },
   "outputs": [
    {
     "name": "stdout",
     "output_type": "stream",
     "text": [
      "(154,)\n",
      "(154,)\n",
      "accuracy:  0.74025974026\n",
      "confusion matrix: \n",
      "[[92 13]\n",
      " [27 22]]\n",
      "classification_report: \n",
      "             precision    recall  f1-score   support\n",
      "\n",
      "        0.0       0.77      0.88      0.82       105\n",
      "        1.0       0.63      0.45      0.52        49\n",
      "\n",
      "avg / total       0.73      0.74      0.73       154\n",
      "\n"
     ]
    }
   ],
   "source": [
    "svc = SVC(C=1.0, kernel='rbf', gamma = 0.125)\n",
    "clf = svc.fit(dm_X_train_minmax, dm_y_train)\n",
    "target = dm_y_test\n",
    "prediction = svc.predict(dm_X_test_minmax)\n",
    "print target.shape\n",
    "print prediction.shape\n",
    "\n",
    "accuracy = accuracy_score(target, prediction) \n",
    "print \"accuracy: \", accuracy\n",
    "\n",
    "cm = confusion_matrix(target, prediction) \n",
    "print \"confusion matrix: \\n\", cm\n",
    "\n",
    "report = classification_report(target, prediction) \n",
    "print \"classification_report: \\n\", report"
   ]
  },
  {
   "cell_type": "code",
   "execution_count": 12,
   "metadata": {
    "collapsed": false
   },
   "outputs": [
    {
     "name": "stdout",
     "output_type": "stream",
     "text": [
      "accuracy:  0.681818181818\n",
      "confusion matrix: \n",
      "[[105   0]\n",
      " [ 49   0]]\n",
      "classification_report: \n",
      "             precision    recall  f1-score   support\n",
      "\n",
      "        0.0       0.68      1.00      0.81       105\n",
      "        1.0       0.00      0.00      0.00        49\n",
      "\n",
      "avg / total       0.46      0.68      0.55       154\n",
      "\n"
     ]
    }
   ],
   "source": [
    "svc = SVC(C=1.0, kernel='rbf', gamma = 0.125)\n",
    "clf = svc.fit(dm_X_train, dm_y_train)\n",
    "target = dm_y_test\n",
    "prediction = svc.predict(dm_X_test)\n",
    "accuracy = accuracy_score(target, prediction)  \n",
    "print \"accuracy: \", accuracy\n",
    "\n",
    "cm = confusion_matrix(target, prediction) \n",
    "print \"confusion matrix: \\n\", cm\n",
    "\n",
    "report = classification_report(target, prediction) \n",
    "print \"classification_report: \\n\", report"
   ]
  },
  {
   "cell_type": "code",
   "execution_count": 25,
   "metadata": {
    "collapsed": false
   },
   "outputs": [
    {
     "name": "stdout",
     "output_type": "stream",
     "text": [
      "(154,)\n",
      "(154,)\n",
      "accuracy:  0.785714285714\n",
      "confusion matrix: \n",
      "[[94 11]\n",
      " [22 27]]\n",
      "classification_report: \n",
      "             precision    recall  f1-score   support\n",
      "\n",
      "        0.0       0.81      0.90      0.85       105\n",
      "        1.0       0.71      0.55      0.62        49\n",
      "\n",
      "avg / total       0.78      0.79      0.78       154\n",
      "\n"
     ]
    }
   ],
   "source": [
    "svc = SVC(C=100.0, kernel='rbf', gamma = 0.125)\n",
    "clf = svc.fit(dm_X_train_minmax, dm_y_train)\n",
    "target = dm_y_test\n",
    "prediction = svc.predict(dm_X_test_minmax)\n",
    "print target.shape\n",
    "print prediction.shape\n",
    "\n",
    "accuracy = accuracy_score(target, prediction) \n",
    "print \"accuracy: \", accuracy\n",
    "\n",
    "cm = confusion_matrix(target, prediction) \n",
    "print \"confusion matrix: \\n\", cm\n",
    "\n",
    "report = classification_report(target, prediction) \n",
    "print \"classification_report: \\n\", report"
   ]
  },
  {
   "cell_type": "code",
   "execution_count": 17,
   "metadata": {
    "collapsed": false
   },
   "outputs": [
    {
     "name": "stdout",
     "output_type": "stream",
     "text": [
      "accuracy:  0.681818181818\n",
      "confusion matrix: \n",
      "[[105   0]\n",
      " [ 49   0]]\n",
      "classification_report: \n",
      "             precision    recall  f1-score   support\n",
      "\n",
      "        0.0       0.68      1.00      0.81       105\n",
      "        1.0       0.00      0.00      0.00        49\n",
      "\n",
      "avg / total       0.46      0.68      0.55       154\n",
      "\n"
     ]
    }
   ],
   "source": [
    "svc = SVC(C=100.0, kernel='rbf', gamma = 0.125)\n",
    "clf = svc.fit(dm_X_train, dm_y_train)\n",
    "target = dm_y_test\n",
    "prediction = svc.predict(dm_X_test)\n",
    "accuracy = accuracy_score(target, prediction)  \n",
    "print \"accuracy: \", accuracy\n",
    "\n",
    "cm = confusion_matrix(target, prediction) \n",
    "print \"confusion matrix: \\n\", cm\n",
    "\n",
    "report = classification_report(target, prediction) \n",
    "print \"classification_report: \\n\", report"
   ]
  },
  {
   "cell_type": "code",
   "execution_count": 18,
   "metadata": {
    "collapsed": false
   },
   "outputs": [
    {
     "name": "stdout",
     "output_type": "stream",
     "text": [
      "(154,)\n",
      "(154,)\n",
      "accuracy:  0.733766233766\n",
      "confusion matrix: \n",
      "[[98  7]\n",
      " [34 15]]\n",
      "classification_report: \n",
      "             precision    recall  f1-score   support\n",
      "\n",
      "        0.0       0.74      0.93      0.83       105\n",
      "        1.0       0.68      0.31      0.42        49\n",
      "\n",
      "avg / total       0.72      0.73      0.70       154\n",
      "\n"
     ]
    }
   ],
   "source": [
    "svc = SVC(C=1.0, kernel='poly', degree=1)\n",
    "clf = svc.fit(dm_X_train_minmax, dm_y_train)\n",
    "target = dm_y_test\n",
    "prediction = svc.predict(dm_X_test_minmax)\n",
    "print target.shape\n",
    "print prediction.shape\n",
    "\n",
    "accuracy = accuracy_score(target, prediction) \n",
    "print \"accuracy: \", accuracy\n",
    "\n",
    "cm = confusion_matrix(target, prediction) \n",
    "print \"confusion matrix: \\n\", cm\n",
    "\n",
    "report = classification_report(target, prediction) \n",
    "print \"classification_report: \\n\", report"
   ]
  },
  {
   "cell_type": "code",
   "execution_count": 19,
   "metadata": {
    "collapsed": false
   },
   "outputs": [
    {
     "name": "stdout",
     "output_type": "stream",
     "text": [
      "accuracy:  0.779220779221\n",
      "confusion matrix: \n",
      "[[92 13]\n",
      " [21 28]]\n",
      "classification_report: \n",
      "             precision    recall  f1-score   support\n",
      "\n",
      "        0.0       0.81      0.88      0.84       105\n",
      "        1.0       0.68      0.57      0.62        49\n",
      "\n",
      "avg / total       0.77      0.78      0.77       154\n",
      "\n"
     ]
    }
   ],
   "source": [
    "svc = SVC(C=1.0, kernel='poly', degree=1)\n",
    "clf = svc.fit(dm_X_train, dm_y_train)\n",
    "target = dm_y_test\n",
    "prediction = svc.predict(dm_X_test)\n",
    "\n",
    "accuracy = accuracy_score(target, prediction) \n",
    "print \"accuracy: \", accuracy\n",
    "\n",
    "cm = confusion_matrix(target, prediction) \n",
    "print \"confusion matrix: \\n\", cm\n",
    "\n",
    "report = classification_report(target, prediction) \n",
    "print \"classification_report: \\n\", report"
   ]
  },
  {
   "cell_type": "code",
   "execution_count": 20,
   "metadata": {
    "collapsed": false
   },
   "outputs": [
    {
     "name": "stdout",
     "output_type": "stream",
     "text": [
      "(154,)\n",
      "(154,)\n",
      "accuracy:  0.772727272727\n",
      "confusion matrix: \n",
      "[[92 13]\n",
      " [22 27]]\n",
      "classification_report: \n",
      "             precision    recall  f1-score   support\n",
      "\n",
      "        0.0       0.81      0.88      0.84       105\n",
      "        1.0       0.68      0.55      0.61        49\n",
      "\n",
      "avg / total       0.77      0.77      0.77       154\n",
      "\n"
     ]
    }
   ],
   "source": [
    "svc = SVC(C=100.0, kernel='poly', degree=1)\n",
    "clf = svc.fit(dm_X_train_minmax, dm_y_train)\n",
    "target = dm_y_test\n",
    "prediction = svc.predict(dm_X_test_minmax)\n",
    "print target.shape\n",
    "print prediction.shape\n",
    "\n",
    "accuracy = accuracy_score(target, prediction) \n",
    "print \"accuracy: \", accuracy\n",
    "\n",
    "cm = confusion_matrix(target, prediction) \n",
    "print \"confusion matrix: \\n\", cm\n",
    "\n",
    "report = classification_report(target, prediction) \n",
    "print \"classification_report: \\n\", report"
   ]
  },
  {
   "cell_type": "code",
   "execution_count": 21,
   "metadata": {
    "collapsed": false
   },
   "outputs": [
    {
     "name": "stdout",
     "output_type": "stream",
     "text": [
      "accuracy:  0.772727272727\n",
      "confusion matrix: \n",
      "[[91 14]\n",
      " [21 28]]\n",
      "classification_report: \n",
      "             precision    recall  f1-score   support\n",
      "\n",
      "        0.0       0.81      0.87      0.84       105\n",
      "        1.0       0.67      0.57      0.62        49\n",
      "\n",
      "avg / total       0.77      0.77      0.77       154\n",
      "\n"
     ]
    }
   ],
   "source": [
    "svc = SVC(C=100.0, kernel='poly', degree=1)\n",
    "clf = svc.fit(dm_X_train, dm_y_train)\n",
    "target = dm_y_test\n",
    "prediction = svc.predict(dm_X_test)\n",
    "accuracy = accuracy_score(target, prediction) \n",
    "print \"accuracy: \", accuracy\n",
    "\n",
    "cm = confusion_matrix(target, prediction) \n",
    "print \"confusion matrix: \\n\", cm\n",
    "\n",
    "report = classification_report(target, prediction) \n",
    "print \"classification_report: \\n\", report"
   ]
  },
  {
   "cell_type": "code",
   "execution_count": 22,
   "metadata": {
    "collapsed": false
   },
   "outputs": [
    {
     "name": "stdout",
     "output_type": "stream",
     "text": [
      "(154,)\n",
      "(154,)\n",
      "accuracy:  0.707792207792\n",
      "confusion matrix: \n",
      "[[105   0]\n",
      " [ 45   4]]\n",
      "classification_report: \n",
      "             precision    recall  f1-score   support\n",
      "\n",
      "        0.0       0.70      1.00      0.82       105\n",
      "        1.0       1.00      0.08      0.15        49\n",
      "\n",
      "avg / total       0.80      0.71      0.61       154\n",
      "\n"
     ]
    }
   ],
   "source": [
    "svc = SVC(C=1.0, kernel='poly', degree=2)\n",
    "clf = svc.fit(dm_X_train_minmax, dm_y_train)\n",
    "target = dm_y_test\n",
    "prediction = svc.predict(dm_X_test_minmax)\n",
    "print target.shape\n",
    "print prediction.shape\n",
    "\n",
    "accuracy = accuracy_score(target, prediction) \n",
    "print \"accuracy: \", accuracy\n",
    "\n",
    "cm = confusion_matrix(target, prediction) \n",
    "print \"confusion matrix: \\n\", cm\n",
    "\n",
    "report = classification_report(target, prediction) \n",
    "print \"classification_report: \\n\", report"
   ]
  },
  {
   "cell_type": "code",
   "execution_count": 23,
   "metadata": {
    "collapsed": false
   },
   "outputs": [
    {
     "name": "stdout",
     "output_type": "stream",
     "text": [
      "accuracy:  0.688311688312\n",
      "confusion matrix: \n",
      "[[80 25]\n",
      " [23 26]]\n",
      "classification_report: \n",
      "             precision    recall  f1-score   support\n",
      "\n",
      "        0.0       0.78      0.76      0.77       105\n",
      "        1.0       0.51      0.53      0.52        49\n",
      "\n",
      "avg / total       0.69      0.69      0.69       154\n",
      "\n"
     ]
    }
   ],
   "source": [
    "svc = SVC(C=1.0, kernel='poly', degree=2)\n",
    "clf = svc.fit(dm_X_train, dm_y_train)\n",
    "target = dm_y_test\n",
    "prediction = svc.predict(dm_X_test)\n",
    "accuracy = accuracy_score(target, prediction) \n",
    "print \"accuracy: \", accuracy\n",
    "\n",
    "cm = confusion_matrix(target, prediction) \n",
    "print \"confusion matrix: \\n\", cm\n",
    "\n",
    "report = classification_report(target, prediction) \n",
    "print \"classification_report: \\n\", report"
   ]
  },
  {
   "cell_type": "code",
   "execution_count": 26,
   "metadata": {
    "collapsed": false
   },
   "outputs": [
    {
     "name": "stdout",
     "output_type": "stream",
     "text": [
      "(154,)\n",
      "(154,)\n",
      "accuracy:  0.798701298701\n",
      "confusion matrix: \n",
      "[[95 10]\n",
      " [21 28]]\n",
      "classification_report: \n",
      "             precision    recall  f1-score   support\n",
      "\n",
      "        0.0       0.82      0.90      0.86       105\n",
      "        1.0       0.74      0.57      0.64        49\n",
      "\n",
      "avg / total       0.79      0.80      0.79       154\n",
      "\n"
     ]
    }
   ],
   "source": [
    "svc = SVC(C=100.0, kernel='poly', degree=2)\n",
    "clf = svc.fit(dm_X_train_minmax, dm_y_train)\n",
    "target = dm_y_test\n",
    "prediction_best = svc.predict(dm_X_test_minmax)\n",
    "pred_best = svc.decision_function(dm_X_test_minmax)\n",
    "print target.shape\n",
    "print prediction.shape\n",
    "\n",
    "accuracy = accuracy_score(target, prediction_best) \n",
    "print \"accuracy: \", accuracy\n",
    "\n",
    "cm = confusion_matrix(target, prediction_best) \n",
    "print \"confusion matrix: \\n\", cm\n",
    "\n",
    "report = classification_report(target, prediction_best) \n",
    "print \"classification_report: \\n\", report"
   ]
  },
  {
   "cell_type": "code",
   "execution_count": 27,
   "metadata": {
    "collapsed": false
   },
   "outputs": [
    {
     "name": "stdout",
     "output_type": "stream",
     "text": [
      "accuracy:  0.662337662338\n",
      "confusion matrix: \n",
      "[[78 27]\n",
      " [25 24]]\n",
      "classification_report: \n",
      "             precision    recall  f1-score   support\n",
      "\n",
      "        0.0       0.76      0.74      0.75       105\n",
      "        1.0       0.47      0.49      0.48        49\n",
      "\n",
      "avg / total       0.67      0.66      0.66       154\n",
      "\n"
     ]
    }
   ],
   "source": [
    "svc = SVC(C=100.0, kernel='poly', degree=2)\n",
    "clf = svc.fit(dm_X_train, dm_y_train)\n",
    "target = dm_y_test\n",
    "prediction = svc.predict(dm_X_test)\n",
    "accuracy = accuracy_score(target, prediction)\n",
    "print \"accuracy: \", accuracy\n",
    "\n",
    "cm = confusion_matrix(target, prediction) \n",
    "print \"confusion matrix: \\n\", cm\n",
    "\n",
    "report = classification_report(target, prediction) \n",
    "print \"classification_report: \\n\", report"
   ]
  },
  {
   "cell_type": "code",
   "execution_count": 28,
   "metadata": {
    "collapsed": false
   },
   "outputs": [
    {
     "name": "stdout",
     "output_type": "stream",
     "text": [
      "[ 2.49976906  1.41222838  1.26879395  1.20214334  1.17012635  0.87568731\n",
      "  0.86739186  0.74105983  0.65596716  0.58539506  0.5097528   0.41969818\n",
      "  0.37771531  0.352314    0.30827177 -0.04648777 -0.39199216 -0.51926911\n",
      " -0.57791021 -0.58555964 -0.70972178 -0.71602447 -0.78356684 -0.88860128\n",
      " -0.90018665 -0.91149973 -0.99411655 -0.99559765 -1.06556169 -1.06811582\n",
      " -1.11769369 -1.12363463 -1.33226254 -1.34223389 -1.39314648 -1.39716075\n",
      " -1.44231479 -1.48796117 -2.17471606 -2.18452553 -3.09805372]\n",
      "Area under the ROC curve : 0.815160\n"
     ]
    }
   ],
   "source": [
    "fpr, tpr, thresholds = roc_curve(target, pred_best)\n",
    "print thresholds\n",
    "roc_auc = auc(fpr, tpr) \n",
    "print \"Area under the ROC curve : %f\" % roc_auc"
   ]
  },
  {
   "cell_type": "code",
   "execution_count": 29,
   "metadata": {
    "collapsed": false
   },
   "outputs": [],
   "source": [
    "plt.figure()\n",
    "plt.plot(fpr, tpr, label='ROC curve (area = %0.2f)' % roc_auc, lw=4, color =\"#0000ff\", marker='s',markerfacecolor=\"red\")\n",
    "plt.plot([0, 1], [0, 1], 'k--')\n",
    "plt.xlim([-0.005, 1.0])\n",
    "plt.ylim([0.0, 1.005])\n",
    "plt.xlabel('False Positive Rate (1-specificity)') \n",
    "plt.ylabel('True Positive Rate (sensitivity)') \n",
    "plt.title('ROC curve')\n",
    "plt.legend(loc=\"lower right\") \n",
    "plt.show()"
   ]
  },
  {
   "cell_type": "code",
   "execution_count": 30,
   "metadata": {
    "collapsed": false
   },
   "outputs": [],
   "source": [
    "fig, axes = plt.subplots(nrows=1, ncols=2)\n",
    "\n",
    "dm_X1 = data2[:,0]\n",
    "dm_X2 = data2[:,4]\n",
    "\n",
    "axes[0].scatter(dm_X1, dm_y, alpha=.5, color='blue')\n",
    "axes[0].set_xlabel('Number of Times Pregnant')\n",
    "axes[0].set_ylabel('Diabetes')\n",
    "axes[0].set_title('Scatter Diagram for Diabetes vs Gravidity')\n",
    "\n",
    "axes[1].scatter(dm_X2, dm_y, alpha=.5, color='red')\n",
    "axes[1].set_xlabel('2-Hour Serum Insulin Level')\n",
    "axes[1].set_ylabel('Diabetes')\n",
    "axes[1].set_title('Scatter Diagram for Diabetes vs Insulin Level')\n",
    "\n",
    "plt.show()"
   ]
  }
 ],
 "metadata": {
  "kernelspec": {
   "display_name": "Python 2",
   "language": "python",
   "name": "python2"
  },
  "language_info": {
   "codemirror_mode": {
    "name": "ipython",
    "version": 2
   },
   "file_extension": ".py",
   "mimetype": "text/x-python",
   "name": "python",
   "nbconvert_exporter": "python",
   "pygments_lexer": "ipython2",
   "version": "2.7.11"
  }
 },
 "nbformat": 4,
 "nbformat_minor": 0
}
